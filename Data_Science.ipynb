{
  "nbformat": 4,
  "nbformat_minor": 0,
  "metadata": {
    "colab": {
      "provenance": [],
      "include_colab_link": true
    },
    "kernelspec": {
      "name": "python3",
      "display_name": "Python 3"
    },
    "language_info": {
      "name": "python"
    }
  },
  "cells": [
    {
      "cell_type": "markdown",
      "metadata": {
        "id": "view-in-github",
        "colab_type": "text"
      },
      "source": [
        "<a href=\"https://colab.research.google.com/github/Iqbal1301/iqbal/blob/main/Data_Science.ipynb\" target=\"_parent\"><img src=\"https://colab.research.google.com/assets/colab-badge.svg\" alt=\"Open In Colab\"/></a>"
      ]
    },
    {
      "cell_type": "code",
      "execution_count": null,
      "metadata": {
        "colab": {
          "base_uri": "https://localhost:8080/"
        },
        "id": "WzyqYg_tJLN_",
        "outputId": "c4c73b0f-5717-4128-8322-1250b1a42759"
      },
      "outputs": [
        {
          "output_type": "stream",
          "name": "stdout",
          "text": [
            "Collecting pyspark\n",
            "  Downloading pyspark-3.5.0.tar.gz (316.9 MB)\n",
            "\u001b[2K     \u001b[90m━━━━━━━━━━━━━━━━━━━━━━━━━━━━━━━━━━━━━━━━\u001b[0m \u001b[32m316.9/316.9 MB\u001b[0m \u001b[31m2.9 MB/s\u001b[0m eta \u001b[36m0:00:00\u001b[0m\n",
            "\u001b[?25h  Preparing metadata (setup.py) ... \u001b[?25l\u001b[?25hdone\n",
            "Requirement already satisfied: py4j==0.10.9.7 in /usr/local/lib/python3.10/dist-packages (from pyspark) (0.10.9.7)\n",
            "Building wheels for collected packages: pyspark\n",
            "  Building wheel for pyspark (setup.py) ... \u001b[?25l\u001b[?25hdone\n",
            "  Created wheel for pyspark: filename=pyspark-3.5.0-py2.py3-none-any.whl size=317425345 sha256=5c19033f468d59c47096409a28a97a5164dbddee47e9d186993b68b28e40de70\n",
            "  Stored in directory: /root/.cache/pip/wheels/41/4e/10/c2cf2467f71c678cfc8a6b9ac9241e5e44a01940da8fbb17fc\n",
            "Successfully built pyspark\n",
            "Installing collected packages: pyspark\n",
            "Successfully installed pyspark-3.5.0\n"
          ]
        }
      ],
      "source": [
        "pip install pyspark"
      ]
    },
    {
      "cell_type": "code",
      "source": [
        "import os\n",
        "import warnings\n",
        "warnings.filterwarnings('ignore')\n",
        "from pyspark.sql import SparkSession\n",
        "from pyspark.sql.types import StructField, StructType, StringType, IntegerType, FloatType, DateType, DoubleType\n",
        "from pyspark.sql.functions import split, count, when, isnan, col, regexp_replace\n",
        "from pyspark.sql.functions import col\n",
        "from pyspark.ml.feature import OneHotEncoder, StringIndexer\n",
        "from pyspark.ml.linalg import Vectors\n",
        "from pyspark.ml.feature import VectorAssembler\n",
        "from pyspark.ml.regression import LinearRegression\n",
        "from pyspark.sql import functions as F\n",
        "import pandas as pd0\n",
        "import matplotlib.pyplot as plt\n"
      ],
      "metadata": {
        "id": "o6hhQgVgfh0O"
      },
      "execution_count": null,
      "outputs": []
    },
    {
      "cell_type": "code",
      "source": [
        "spark = SparkSession.builder.appName('PrediksiSaham').getOrCreate()\n",
        "print('Spark Version: {}'.format(spark.version))"
      ],
      "metadata": {
        "colab": {
          "base_uri": "https://localhost:8080/"
        },
        "id": "dwB6xDaPhIQ-",
        "outputId": "8b5f97f1-2513-430c-c934-14336550c4e0"
      },
      "execution_count": null,
      "outputs": [
        {
          "output_type": "stream",
          "name": "stdout",
          "text": [
            "Spark Version: 3.5.0\n"
          ]
        }
      ]
    },
    {
      "cell_type": "code",
      "source": [
        "schema = StructType([\n",
        "    StructField(\"No\", IntegerType(), True),\n",
        "    StructField(\"Date\", DateType(), True),\n",
        "    StructField(\"Open\", IntegerType(), True),\n",
        "    StructField(\"High\", IntegerType(), True),\n",
        "    StructField(\"Low\", IntegerType(), True),\n",
        "    StructField(\"Close\", IntegerType(), True),\n",
        "    StructField(\"Volume\", IntegerType(), True)])\n",
        "\n",
        "file_path ='bbri_saham.csv'\n",
        "\n",
        "df = spark.read.csv(file_path, header = True, inferSchema=True)\n",
        "\n",
        "df.show(5)"
      ],
      "metadata": {
        "colab": {
          "base_uri": "https://localhost:8080/"
        },
        "id": "NyzgbNR_hV6T",
        "outputId": "ceb74886-e6fb-4239-9bc3-d9541a14bad4"
      },
      "execution_count": null,
      "outputs": [
        {
          "output_type": "stream",
          "name": "stdout",
          "text": [
            "+----------+----+----+----+-----+---------+\n",
            "|      Date|Open|High| Low|Close|   Volume|\n",
            "+----------+----+----+----+-----+---------+\n",
            "|2023-12-22|5650|5700|5600| 5675|109411300|\n",
            "|2023-12-21|5550|5600|5525| 5575| 99049600|\n",
            "|2023-12-20|5700|5700|5550| 5550|138470900|\n",
            "|2023-12-19|5450|5550|5450| 5550|158893700|\n",
            "|2023-12-18|5575|5575|5500| 5500|102780900|\n",
            "+----------+----+----+----+-----+---------+\n",
            "only showing top 5 rows\n",
            "\n"
          ]
        }
      ]
    },
    {
      "cell_type": "code",
      "source": [
        "def check_missing(dataframe):\n",
        "    return dataframe.select([\n",
        "        count(when(col(c).isNull(), c)).alias(c)  # Only check for null values for Date\n",
        "       if c == \"Date\" else\n",
        "        count(when(isnan(c) | col(c).isNull(), c)).alias(c)  # Check for NaN and null for other columns\n",
        "       for c in dataframe.columns\n",
        "\n",
        "    ]).show()\n",
        "#Check Missing Values\n",
        "\n",
        "check_missing(df)"
      ],
      "metadata": {
        "colab": {
          "base_uri": "https://localhost:8080/"
        },
        "id": "dZFpgQeOhsHl",
        "outputId": "244d2a8f-7b2d-48f3-bfdb-df34b10f215b"
      },
      "execution_count": null,
      "outputs": [
        {
          "output_type": "stream",
          "name": "stdout",
          "text": [
            "+----+----+----+---+-----+------+\n",
            "|Date|Open|High|Low|Close|Volume|\n",
            "+----+----+----+---+-----+------+\n",
            "|   0|   0|   0|  0|    0|     0|\n",
            "+----+----+----+---+-----+------+\n",
            "\n"
          ]
        }
      ]
    },
    {
      "cell_type": "code",
      "source": [
        "def handle_missing(dataframe):\n",
        "    numerical_cols = dataframe.select([c for c in dataframe.columns if c != \"Date\"])  # Exclude Date column\n",
        "    for col in numerical_cols.columns:\n",
        "        dataframe = dataframe.na.fill(dataframe.select(col).mean(), col)\n",
        "    return dataframe\n",
        "\n",
        "df.show(5)"
      ],
      "metadata": {
        "colab": {
          "base_uri": "https://localhost:8080/"
        },
        "id": "5nbGiVOzh9Js",
        "outputId": "03225f21-19cb-4bd3-bfdd-bf0c60a7eff8"
      },
      "execution_count": null,
      "outputs": [
        {
          "output_type": "stream",
          "name": "stdout",
          "text": [
            "+----------+----+----+----+-----+---------+\n",
            "|      Date|Open|High| Low|Close|   Volume|\n",
            "+----------+----+----+----+-----+---------+\n",
            "|2023-12-22|5650|5700|5600| 5675|109411300|\n",
            "|2023-12-21|5550|5600|5525| 5575| 99049600|\n",
            "|2023-12-20|5700|5700|5550| 5550|138470900|\n",
            "|2023-12-19|5450|5550|5450| 5550|158893700|\n",
            "|2023-12-18|5575|5575|5500| 5500|102780900|\n",
            "+----------+----+----+----+-----+---------+\n",
            "only showing top 5 rows\n",
            "\n"
          ]
        }
      ]
    },
    {
      "cell_type": "code",
      "source": [
        "df.columns"
      ],
      "metadata": {
        "colab": {
          "base_uri": "https://localhost:8080/"
        },
        "id": "teJpPVPyh-fM",
        "outputId": "a5d2a4d9-a60e-4662-8bda-bcb1894541b6"
      },
      "execution_count": null,
      "outputs": [
        {
          "output_type": "execute_result",
          "data": {
            "text/plain": [
              "['Date', 'Open', 'High', 'Low', 'Close', 'Volume']"
            ]
          },
          "metadata": {},
          "execution_count": 8
        }
      ]
    },
    {
      "cell_type": "code",
      "source": [
        "df.toPandas().head()\n"
      ],
      "metadata": {
        "colab": {
          "base_uri": "https://localhost:8080/",
          "height": 206
        },
        "id": "-TmgyYGIiBw1",
        "outputId": "f195ff53-6937-4125-82e1-e5fb2c5996f0"
      },
      "execution_count": null,
      "outputs": [
        {
          "output_type": "execute_result",
          "data": {
            "text/plain": [
              "         Date  Open  High   Low  Close     Volume\n",
              "0  2023-12-22  5650  5700  5600   5675  109411300\n",
              "1  2023-12-21  5550  5600  5525   5575   99049600\n",
              "2  2023-12-20  5700  5700  5550   5550  138470900\n",
              "3  2023-12-19  5450  5550  5450   5550  158893700\n",
              "4  2023-12-18  5575  5575  5500   5500  102780900"
            ],
            "text/html": [
              "\n",
              "  <div id=\"df-709eeb80-0855-456c-9ace-5b465d989c75\" class=\"colab-df-container\">\n",
              "    <div>\n",
              "<style scoped>\n",
              "    .dataframe tbody tr th:only-of-type {\n",
              "        vertical-align: middle;\n",
              "    }\n",
              "\n",
              "    .dataframe tbody tr th {\n",
              "        vertical-align: top;\n",
              "    }\n",
              "\n",
              "    .dataframe thead th {\n",
              "        text-align: right;\n",
              "    }\n",
              "</style>\n",
              "<table border=\"1\" class=\"dataframe\">\n",
              "  <thead>\n",
              "    <tr style=\"text-align: right;\">\n",
              "      <th></th>\n",
              "      <th>Date</th>\n",
              "      <th>Open</th>\n",
              "      <th>High</th>\n",
              "      <th>Low</th>\n",
              "      <th>Close</th>\n",
              "      <th>Volume</th>\n",
              "    </tr>\n",
              "  </thead>\n",
              "  <tbody>\n",
              "    <tr>\n",
              "      <th>0</th>\n",
              "      <td>2023-12-22</td>\n",
              "      <td>5650</td>\n",
              "      <td>5700</td>\n",
              "      <td>5600</td>\n",
              "      <td>5675</td>\n",
              "      <td>109411300</td>\n",
              "    </tr>\n",
              "    <tr>\n",
              "      <th>1</th>\n",
              "      <td>2023-12-21</td>\n",
              "      <td>5550</td>\n",
              "      <td>5600</td>\n",
              "      <td>5525</td>\n",
              "      <td>5575</td>\n",
              "      <td>99049600</td>\n",
              "    </tr>\n",
              "    <tr>\n",
              "      <th>2</th>\n",
              "      <td>2023-12-20</td>\n",
              "      <td>5700</td>\n",
              "      <td>5700</td>\n",
              "      <td>5550</td>\n",
              "      <td>5550</td>\n",
              "      <td>138470900</td>\n",
              "    </tr>\n",
              "    <tr>\n",
              "      <th>3</th>\n",
              "      <td>2023-12-19</td>\n",
              "      <td>5450</td>\n",
              "      <td>5550</td>\n",
              "      <td>5450</td>\n",
              "      <td>5550</td>\n",
              "      <td>158893700</td>\n",
              "    </tr>\n",
              "    <tr>\n",
              "      <th>4</th>\n",
              "      <td>2023-12-18</td>\n",
              "      <td>5575</td>\n",
              "      <td>5575</td>\n",
              "      <td>5500</td>\n",
              "      <td>5500</td>\n",
              "      <td>102780900</td>\n",
              "    </tr>\n",
              "  </tbody>\n",
              "</table>\n",
              "</div>\n",
              "    <div class=\"colab-df-buttons\">\n",
              "\n",
              "  <div class=\"colab-df-container\">\n",
              "    <button class=\"colab-df-convert\" onclick=\"convertToInteractive('df-709eeb80-0855-456c-9ace-5b465d989c75')\"\n",
              "            title=\"Convert this dataframe to an interactive table.\"\n",
              "            style=\"display:none;\">\n",
              "\n",
              "  <svg xmlns=\"http://www.w3.org/2000/svg\" height=\"24px\" viewBox=\"0 -960 960 960\">\n",
              "    <path d=\"M120-120v-720h720v720H120Zm60-500h600v-160H180v160Zm220 220h160v-160H400v160Zm0 220h160v-160H400v160ZM180-400h160v-160H180v160Zm440 0h160v-160H620v160ZM180-180h160v-160H180v160Zm440 0h160v-160H620v160Z\"/>\n",
              "  </svg>\n",
              "    </button>\n",
              "\n",
              "  <style>\n",
              "    .colab-df-container {\n",
              "      display:flex;\n",
              "      gap: 12px;\n",
              "    }\n",
              "\n",
              "    .colab-df-convert {\n",
              "      background-color: #E8F0FE;\n",
              "      border: none;\n",
              "      border-radius: 50%;\n",
              "      cursor: pointer;\n",
              "      display: none;\n",
              "      fill: #1967D2;\n",
              "      height: 32px;\n",
              "      padding: 0 0 0 0;\n",
              "      width: 32px;\n",
              "    }\n",
              "\n",
              "    .colab-df-convert:hover {\n",
              "      background-color: #E2EBFA;\n",
              "      box-shadow: 0px 1px 2px rgba(60, 64, 67, 0.3), 0px 1px 3px 1px rgba(60, 64, 67, 0.15);\n",
              "      fill: #174EA6;\n",
              "    }\n",
              "\n",
              "    .colab-df-buttons div {\n",
              "      margin-bottom: 4px;\n",
              "    }\n",
              "\n",
              "    [theme=dark] .colab-df-convert {\n",
              "      background-color: #3B4455;\n",
              "      fill: #D2E3FC;\n",
              "    }\n",
              "\n",
              "    [theme=dark] .colab-df-convert:hover {\n",
              "      background-color: #434B5C;\n",
              "      box-shadow: 0px 1px 3px 1px rgba(0, 0, 0, 0.15);\n",
              "      filter: drop-shadow(0px 1px 2px rgba(0, 0, 0, 0.3));\n",
              "      fill: #FFFFFF;\n",
              "    }\n",
              "  </style>\n",
              "\n",
              "    <script>\n",
              "      const buttonEl =\n",
              "        document.querySelector('#df-709eeb80-0855-456c-9ace-5b465d989c75 button.colab-df-convert');\n",
              "      buttonEl.style.display =\n",
              "        google.colab.kernel.accessAllowed ? 'block' : 'none';\n",
              "\n",
              "      async function convertToInteractive(key) {\n",
              "        const element = document.querySelector('#df-709eeb80-0855-456c-9ace-5b465d989c75');\n",
              "        const dataTable =\n",
              "          await google.colab.kernel.invokeFunction('convertToInteractive',\n",
              "                                                    [key], {});\n",
              "        if (!dataTable) return;\n",
              "\n",
              "        const docLinkHtml = 'Like what you see? Visit the ' +\n",
              "          '<a target=\"_blank\" href=https://colab.research.google.com/notebooks/data_table.ipynb>data table notebook</a>'\n",
              "          + ' to learn more about interactive tables.';\n",
              "        element.innerHTML = '';\n",
              "        dataTable['output_type'] = 'display_data';\n",
              "        await google.colab.output.renderOutput(dataTable, element);\n",
              "        const docLink = document.createElement('div');\n",
              "        docLink.innerHTML = docLinkHtml;\n",
              "        element.appendChild(docLink);\n",
              "      }\n",
              "    </script>\n",
              "  </div>\n",
              "\n",
              "\n",
              "<div id=\"df-cef28564-6a50-4697-9bd9-3e025d002b89\">\n",
              "  <button class=\"colab-df-quickchart\" onclick=\"quickchart('df-cef28564-6a50-4697-9bd9-3e025d002b89')\"\n",
              "            title=\"Suggest charts\"\n",
              "            style=\"display:none;\">\n",
              "\n",
              "<svg xmlns=\"http://www.w3.org/2000/svg\" height=\"24px\"viewBox=\"0 0 24 24\"\n",
              "     width=\"24px\">\n",
              "    <g>\n",
              "        <path d=\"M19 3H5c-1.1 0-2 .9-2 2v14c0 1.1.9 2 2 2h14c1.1 0 2-.9 2-2V5c0-1.1-.9-2-2-2zM9 17H7v-7h2v7zm4 0h-2V7h2v10zm4 0h-2v-4h2v4z\"/>\n",
              "    </g>\n",
              "</svg>\n",
              "  </button>\n",
              "\n",
              "<style>\n",
              "  .colab-df-quickchart {\n",
              "      --bg-color: #E8F0FE;\n",
              "      --fill-color: #1967D2;\n",
              "      --hover-bg-color: #E2EBFA;\n",
              "      --hover-fill-color: #174EA6;\n",
              "      --disabled-fill-color: #AAA;\n",
              "      --disabled-bg-color: #DDD;\n",
              "  }\n",
              "\n",
              "  [theme=dark] .colab-df-quickchart {\n",
              "      --bg-color: #3B4455;\n",
              "      --fill-color: #D2E3FC;\n",
              "      --hover-bg-color: #434B5C;\n",
              "      --hover-fill-color: #FFFFFF;\n",
              "      --disabled-bg-color: #3B4455;\n",
              "      --disabled-fill-color: #666;\n",
              "  }\n",
              "\n",
              "  .colab-df-quickchart {\n",
              "    background-color: var(--bg-color);\n",
              "    border: none;\n",
              "    border-radius: 50%;\n",
              "    cursor: pointer;\n",
              "    display: none;\n",
              "    fill: var(--fill-color);\n",
              "    height: 32px;\n",
              "    padding: 0;\n",
              "    width: 32px;\n",
              "  }\n",
              "\n",
              "  .colab-df-quickchart:hover {\n",
              "    background-color: var(--hover-bg-color);\n",
              "    box-shadow: 0 1px 2px rgba(60, 64, 67, 0.3), 0 1px 3px 1px rgba(60, 64, 67, 0.15);\n",
              "    fill: var(--button-hover-fill-color);\n",
              "  }\n",
              "\n",
              "  .colab-df-quickchart-complete:disabled,\n",
              "  .colab-df-quickchart-complete:disabled:hover {\n",
              "    background-color: var(--disabled-bg-color);\n",
              "    fill: var(--disabled-fill-color);\n",
              "    box-shadow: none;\n",
              "  }\n",
              "\n",
              "  .colab-df-spinner {\n",
              "    border: 2px solid var(--fill-color);\n",
              "    border-color: transparent;\n",
              "    border-bottom-color: var(--fill-color);\n",
              "    animation:\n",
              "      spin 1s steps(1) infinite;\n",
              "  }\n",
              "\n",
              "  @keyframes spin {\n",
              "    0% {\n",
              "      border-color: transparent;\n",
              "      border-bottom-color: var(--fill-color);\n",
              "      border-left-color: var(--fill-color);\n",
              "    }\n",
              "    20% {\n",
              "      border-color: transparent;\n",
              "      border-left-color: var(--fill-color);\n",
              "      border-top-color: var(--fill-color);\n",
              "    }\n",
              "    30% {\n",
              "      border-color: transparent;\n",
              "      border-left-color: var(--fill-color);\n",
              "      border-top-color: var(--fill-color);\n",
              "      border-right-color: var(--fill-color);\n",
              "    }\n",
              "    40% {\n",
              "      border-color: transparent;\n",
              "      border-right-color: var(--fill-color);\n",
              "      border-top-color: var(--fill-color);\n",
              "    }\n",
              "    60% {\n",
              "      border-color: transparent;\n",
              "      border-right-color: var(--fill-color);\n",
              "    }\n",
              "    80% {\n",
              "      border-color: transparent;\n",
              "      border-right-color: var(--fill-color);\n",
              "      border-bottom-color: var(--fill-color);\n",
              "    }\n",
              "    90% {\n",
              "      border-color: transparent;\n",
              "      border-bottom-color: var(--fill-color);\n",
              "    }\n",
              "  }\n",
              "</style>\n",
              "\n",
              "  <script>\n",
              "    async function quickchart(key) {\n",
              "      const quickchartButtonEl =\n",
              "        document.querySelector('#' + key + ' button');\n",
              "      quickchartButtonEl.disabled = true;  // To prevent multiple clicks.\n",
              "      quickchartButtonEl.classList.add('colab-df-spinner');\n",
              "      try {\n",
              "        const charts = await google.colab.kernel.invokeFunction(\n",
              "            'suggestCharts', [key], {});\n",
              "      } catch (error) {\n",
              "        console.error('Error during call to suggestCharts:', error);\n",
              "      }\n",
              "      quickchartButtonEl.classList.remove('colab-df-spinner');\n",
              "      quickchartButtonEl.classList.add('colab-df-quickchart-complete');\n",
              "    }\n",
              "    (() => {\n",
              "      let quickchartButtonEl =\n",
              "        document.querySelector('#df-cef28564-6a50-4697-9bd9-3e025d002b89 button');\n",
              "      quickchartButtonEl.style.display =\n",
              "        google.colab.kernel.accessAllowed ? 'block' : 'none';\n",
              "    })();\n",
              "  </script>\n",
              "</div>\n",
              "    </div>\n",
              "  </div>\n"
            ]
          },
          "metadata": {},
          "execution_count": 9
        }
      ]
    },
    {
      "cell_type": "code",
      "source": [
        "df.printSchema()"
      ],
      "metadata": {
        "colab": {
          "base_uri": "https://localhost:8080/"
        },
        "id": "KGutT0vGiDje",
        "outputId": "3ea866d0-4af6-4ed7-e3bb-f45279541f21"
      },
      "execution_count": null,
      "outputs": [
        {
          "output_type": "stream",
          "name": "stdout",
          "text": [
            "root\n",
            " |-- Date: date (nullable = true)\n",
            " |-- Open: integer (nullable = true)\n",
            " |-- High: integer (nullable = true)\n",
            " |-- Low: integer (nullable = true)\n",
            " |-- Close: integer (nullable = true)\n",
            " |-- Volume: integer (nullable = true)\n",
            "\n"
          ]
        }
      ]
    },
    {
      "cell_type": "code",
      "source": [
        "df.describe().show(5)"
      ],
      "metadata": {
        "colab": {
          "base_uri": "https://localhost:8080/"
        },
        "id": "XM87jFmGiEs2",
        "outputId": "e82a0273-c066-4ed8-b87e-8e60188c2794"
      },
      "execution_count": null,
      "outputs": [
        {
          "output_type": "stream",
          "name": "stdout",
          "text": [
            "+-------+------------------+-----------------+-----------------+-----------------+--------------------+\n",
            "|summary|              Open|             High|              Low|            Close|              Volume|\n",
            "+-------+------------------+-----------------+-----------------+-----------------+--------------------+\n",
            "|  count|               972|              972|              972|              972|                 972|\n",
            "|   mean|3988.8683127572017|4391.635802469136|4289.593621399177|4337.957818930041|1.6129020113168725E8|\n",
            "| stddev|1548.1044371240196|719.1309544397606|729.4332933408243| 726.744976477158| 9.568202638379899E7|\n",
            "|    min|                 0|             2270|             2160|             2170|             6819800|\n",
            "|    max|              5700|             5750|             5675|             5700|           872607300|\n",
            "+-------+------------------+-----------------+-----------------+-----------------+--------------------+\n",
            "\n"
          ]
        }
      ]
    },
    {
      "cell_type": "code",
      "source": [
        "df.describe(['Open', 'Close']).show()"
      ],
      "metadata": {
        "colab": {
          "base_uri": "https://localhost:8080/"
        },
        "id": "XSmFHaHXGwnh",
        "outputId": "3310d501-0b42-4734-8ebf-ba4dcebd80b5"
      },
      "execution_count": null,
      "outputs": [
        {
          "output_type": "stream",
          "name": "stdout",
          "text": [
            "+-------+------------------+-----------------+\n",
            "|summary|              Open|            Close|\n",
            "+-------+------------------+-----------------+\n",
            "|  count|               972|              972|\n",
            "|   mean|3988.8683127572017|4337.957818930041|\n",
            "| stddev|1548.1044371240196| 726.744976477158|\n",
            "|    min|                 0|             2170|\n",
            "|    max|              5700|             5700|\n",
            "+-------+------------------+-----------------+\n",
            "\n"
          ]
        }
      ]
    },
    {
      "cell_type": "code",
      "source": [
        "#describe with numerical columns\n",
        "def get_num_cols(dataframe):\n",
        "\n",
        "    num_cols = [col for col in dataframe.columns if dataframe.select(col). \\\n",
        "                dtypes[0][1] in ['double', 'int']]\n",
        "\n",
        "    return num_cols\n",
        "\n",
        "num_cols = get_num_cols(df)\n",
        "\n",
        "df.describe(num_cols).show()"
      ],
      "metadata": {
        "colab": {
          "base_uri": "https://localhost:8080/"
        },
        "id": "KyrrPnfBhudz",
        "outputId": "5ce8ebc0-7ef1-4405-f217-389705e4d9ed"
      },
      "execution_count": null,
      "outputs": [
        {
          "output_type": "stream",
          "name": "stdout",
          "text": [
            "+-------+------------------+-----------------+-----------------+-----------------+--------------------+\n",
            "|summary|              Open|             High|              Low|            Close|              Volume|\n",
            "+-------+------------------+-----------------+-----------------+-----------------+--------------------+\n",
            "|  count|               972|              972|              972|              972|                 972|\n",
            "|   mean|3988.8683127572017|4391.635802469136|4289.593621399177|4337.957818930041|1.6129020113168725E8|\n",
            "| stddev|1548.1044371240196|719.1309544397606|729.4332933408243| 726.744976477158| 9.568202638379899E7|\n",
            "|    min|                 0|             2270|             2160|             2170|             6819800|\n",
            "|    max|              5700|             5750|             5675|             5700|           872607300|\n",
            "+-------+------------------+-----------------+-----------------+-----------------+--------------------+\n",
            "\n"
          ]
        }
      ]
    },
    {
      "cell_type": "code",
      "source": [
        "df.filter(df['Open'] > 5300).show(5)"
      ],
      "metadata": {
        "colab": {
          "base_uri": "https://localhost:8080/"
        },
        "id": "M5FFfMyi8HD7",
        "outputId": "010bbb6f-4e66-4ed6-f6d0-a694015b6a23"
      },
      "execution_count": null,
      "outputs": [
        {
          "output_type": "stream",
          "name": "stdout",
          "text": [
            "+----------+----+----+----+-----+---------+\n",
            "|      Date|Open|High| Low|Close|   Volume|\n",
            "+----------+----+----+----+-----+---------+\n",
            "|2023-12-22|5650|5700|5600| 5675|109411300|\n",
            "|2023-12-21|5550|5600|5525| 5575| 99049600|\n",
            "|2023-12-20|5700|5700|5550| 5550|138470900|\n",
            "|2023-12-19|5450|5550|5450| 5550|158893700|\n",
            "|2023-12-18|5575|5575|5500| 5500|102780900|\n",
            "+----------+----+----+----+-----+---------+\n",
            "only showing top 5 rows\n",
            "\n"
          ]
        }
      ]
    },
    {
      "cell_type": "code",
      "source": [
        "df.filter((df['Open'] > 5500 ) & (df['Close'] == 5600)). \\\n",
        "orderBy('Open', ascending = False).show(5)\n",
        "# Memfilter Harga Saham Open dan Close, dan urutkan berdasarkan Harga yang ditentukan"
      ],
      "metadata": {
        "colab": {
          "base_uri": "https://localhost:8080/"
        },
        "id": "r5fTNyNW8odE",
        "outputId": "ac9de552-d1ef-446d-a8c9-882e9854cf68"
      },
      "execution_count": null,
      "outputs": [
        {
          "output_type": "stream",
          "name": "stdout",
          "text": [
            "+----------+----+----+----+-----+---------+\n",
            "|      Date|Open|High| Low|Close|   Volume|\n",
            "+----------+----+----+----+-----+---------+\n",
            "|2023-08-23|5600|5625|5575| 5600| 78686900|\n",
            "|2023-07-24|5600|5650|5600| 5600| 62962500|\n",
            "|2023-08-25|5550|5600|5525| 5600| 65096500|\n",
            "|2023-08-29|5525|5600|5525| 5600| 57547200|\n",
            "|2023-05-24|5525|5600|5450| 5600|156211500|\n",
            "+----------+----+----+----+-----+---------+\n",
            "\n"
          ]
        }
      ]
    },
    {
      "cell_type": "code",
      "source": [
        "df.filter('Open == 5600 and Close between 5600 and 5750 ') \\\n",
        ".select(['Open', 'Close', 'High']).show()"
      ],
      "metadata": {
        "colab": {
          "base_uri": "https://localhost:8080/"
        },
        "id": "aj-yH64KM-va",
        "outputId": "077cd489-558b-4613-a3c1-d2c00a0763dd"
      },
      "execution_count": null,
      "outputs": [
        {
          "output_type": "stream",
          "name": "stdout",
          "text": [
            "+----+-----+----+\n",
            "|Open|Close|High|\n",
            "+----+-----+----+\n",
            "|5600| 5625|5625|\n",
            "|5600| 5600|5625|\n",
            "|5600| 5700|5725|\n",
            "|5600| 5600|5650|\n",
            "|5600| 5625|5625|\n",
            "+----+-----+----+\n",
            "\n"
          ]
        }
      ]
    },
    {
      "cell_type": "code",
      "source": [
        "df.groupBy('Open').agg({'Close' : 'min'}).show(5)"
      ],
      "metadata": {
        "colab": {
          "base_uri": "https://localhost:8080/"
        },
        "id": "d2GmDuldneXC",
        "outputId": "5a3e9563-f199-4c55-a208-94dde1f17349"
      },
      "execution_count": null,
      "outputs": [
        {
          "output_type": "stream",
          "name": "stdout",
          "text": [
            "+----+----------+\n",
            "|Open|min(Close)|\n",
            "+----+----------+\n",
            "|5300|      5225|\n",
            "|4900|      4800|\n",
            "|4190|      3980|\n",
            "|3220|      3190|\n",
            "|4000|      3880|\n",
            "+----+----------+\n",
            "only showing top 5 rows\n",
            "\n"
          ]
        }
      ]
    },
    {
      "cell_type": "code",
      "source": [
        "df.groupBy('Open').agg({'Close': 'max'}).show(5)"
      ],
      "metadata": {
        "colab": {
          "base_uri": "https://localhost:8080/"
        },
        "id": "qa4FqhTQuTJh",
        "outputId": "95efd144-01f8-4d13-f967-95e75b3e570a"
      },
      "execution_count": null,
      "outputs": [
        {
          "output_type": "stream",
          "name": "stdout",
          "text": [
            "+----+----------+\n",
            "|Open|max(Close)|\n",
            "+----+----------+\n",
            "|5300|      5425|\n",
            "|4900|      4930|\n",
            "|4190|      4230|\n",
            "|3220|      3300|\n",
            "|4000|      4160|\n",
            "+----+----------+\n",
            "only showing top 5 rows\n",
            "\n"
          ]
        }
      ]
    },
    {
      "cell_type": "code",
      "source": [
        "#Check brand frequences first\n",
        "df.groupby('Close').count().orderBy('count', ascending = False).show(5)"
      ],
      "metadata": {
        "colab": {
          "base_uri": "https://localhost:8080/"
        },
        "id": "jeiEIJ-Z2AGm",
        "outputId": "11c8ecdb-2264-460f-8d14-85d561a6663c"
      },
      "execution_count": null,
      "outputs": [
        {
          "output_type": "stream",
          "name": "stdout",
          "text": [
            "+-----+-----+\n",
            "|Close|count|\n",
            "+-----+-----+\n",
            "| 4400|   18|\n",
            "| 4650|   13|\n",
            "| 4250|   12|\n",
            "| 5550|   12|\n",
            "| 4280|   11|\n",
            "+-----+-----+\n",
            "only showing top 5 rows\n",
            "\n"
          ]
        }
      ]
    },
    {
      "cell_type": "code",
      "source": [
        "def one_hot_encoder(dataframe, col):\n",
        "\n",
        "    indexed = StringIndexer().setInputCol(col).setOutputCol(col + '_cat'). \\\n",
        "    fit(dataframe).transform(dataframe) #converting categorical values into category indices\n",
        "\n",
        "    ohe = OneHotEncoder().setInputCol(col + '_cat').setOutputCol(col + '_OneHotEncoded'). \\\n",
        "    fit(indexed).transform(indexed)\n",
        "\n",
        "    ohe = ohe.drop(*[col, col + '_cat'])\n",
        "\n",
        "    return ohe\n",
        "\n",
        "df = one_hot_encoder(df, col = 'Volume')\n",
        "df.show(5)"
      ],
      "metadata": {
        "id": "7ySZtEyiFw0i",
        "colab": {
          "base_uri": "https://localhost:8080/"
        },
        "outputId": "dae73fe6-4117-4812-8837-37f7846163c9"
      },
      "execution_count": null,
      "outputs": [
        {
          "output_type": "stream",
          "name": "stdout",
          "text": [
            "+----------+----+----+----+-----+--------------------+\n",
            "|      Date|Open|High| Low|Close|Volume_OneHotEncoded|\n",
            "+----------+----+----+----+-----+--------------------+\n",
            "|2023-12-22|5650|5700|5600| 5675|    (971,[75],[1.0])|\n",
            "|2023-12-21|5550|5600|5525| 5575|   (971,[966],[1.0])|\n",
            "|2023-12-20|5700|5700|5550| 5550|   (971,[254],[1.0])|\n",
            "|2023-12-19|5450|5550|5450| 5550|   (971,[356],[1.0])|\n",
            "|2023-12-18|5575|5575|5500| 5500|    (971,[15],[1.0])|\n",
            "+----------+----+----+----+-----+--------------------+\n",
            "only showing top 5 rows\n",
            "\n"
          ]
        }
      ]
    },
    {
      "cell_type": "code",
      "source": [
        "from pyspark.sql import SparkSession\n",
        "from pyspark.ml.feature import VectorAssembler\n",
        "\n",
        "def vector_assembler(dataframe, indep_cols=['High', 'Open', 'Low']):\n",
        "    assembler = VectorAssembler(inputCols=indep_cols, outputCol='features')\n",
        "    output = assembler.transform(dataframe)\n",
        "    return output\n",
        "\n",
        "\n",
        "\n",
        "    indep_cols = ['High', 'Open', 'Low']\n",
        "\n",
        "df = vector_assembler(df)\n",
        "df.show(5)"
      ],
      "metadata": {
        "colab": {
          "base_uri": "https://localhost:8080/"
        },
        "id": "vN-gNVYKdQ4e",
        "outputId": "a63ca01d-c6b7-4b1d-eaee-0990780baece"
      },
      "execution_count": null,
      "outputs": [
        {
          "output_type": "stream",
          "name": "stdout",
          "text": [
            "+----------+----+----+----+-----+--------------------+--------------------+\n",
            "|      Date|Open|High| Low|Close|Volume_OneHotEncoded|            features|\n",
            "+----------+----+----+----+-----+--------------------+--------------------+\n",
            "|2023-12-22|5650|5700|5600| 5675|    (971,[75],[1.0])|[5700.0,5650.0,56...|\n",
            "|2023-12-21|5550|5600|5525| 5575|   (971,[966],[1.0])|[5600.0,5550.0,55...|\n",
            "|2023-12-20|5700|5700|5550| 5550|   (971,[254],[1.0])|[5700.0,5700.0,55...|\n",
            "|2023-12-19|5450|5550|5450| 5550|   (971,[356],[1.0])|[5550.0,5450.0,54...|\n",
            "|2023-12-18|5575|5575|5500| 5500|    (971,[15],[1.0])|[5575.0,5575.0,55...|\n",
            "+----------+----+----+----+-----+--------------------+--------------------+\n",
            "only showing top 5 rows\n",
            "\n"
          ]
        }
      ]
    },
    {
      "cell_type": "code",
      "source": [
        "import matplotlib.pyplot as plt\n",
        "import numpy as np\n",
        "\n",
        "# Ambil data yang telah di-VectorAssembler\n",
        "feature_data = df.select('features').collect()\n",
        "\n",
        "# Konversi kolom fitur ke dalam bentuk numpy array\n",
        "features_array = np.array([float(row.features[0]) for row in feature_data])\n",
        "\n",
        "# Visualisasi Histogram\n",
        "plt.hist(features_array, bins=20, color='blue', alpha=0.7)\n",
        "plt.xlabel('Merged Feature Values')\n",
        "plt.ylabel('Frequency')\n",
        "plt.title('Histogram of Merged Features')\n",
        "plt.show()\n"
      ],
      "metadata": {
        "colab": {
          "base_uri": "https://localhost:8080/",
          "height": 472
        },
        "id": "000RZuq9ql94",
        "outputId": "e3bf6270-8d05-43a6-b69f-a4282040bea2"
      },
      "execution_count": null,
      "outputs": [
        {
          "output_type": "display_data",
          "data": {
            "text/plain": [
              "<Figure size 640x480 with 1 Axes>"
            ],
            "image/png": "[encoded data removed]"
          },
          "metadata": {}
        }
      ]
    },
    {
      "cell_type": "code",
      "source": [
        "import seaborn as sns\n",
        "import pandas as pd\n",
        "\n",
        "# Ambil data yang telah di-VectorAssembler dan diubah ke dalam Pandas DataFrame\n",
        "feature_data_pd = df.select('features').toPandas()\n",
        "\n",
        "# Pisahkan kolom fitur ke dalam kolom terpisah\n",
        "split_features = pd.DataFrame(feature_data_pd['features'].tolist(), columns=['High', 'Open', 'Low'])\n",
        "\n",
        "# Tambahkan kolom target jika ada\n",
        "# split_features['Target'] = df.select('Target').collect()\n",
        "\n",
        "# Visualisasi Pair Plot\n",
        "sns.pairplot(split_features)\n",
        "plt.show()\n"
      ],
      "metadata": {
        "colab": {
          "base_uri": "https://localhost:8080/",
          "height": 758
        },
        "id": "wK88UrGbqsR4",
        "outputId": "f7eb450d-f82b-4b14-dd69-63fdb7bb2ab0"
      },
      "execution_count": null,
      "outputs": [
        {
          "output_type": "display_data",
          "data": {
            "text/plain": [
              "<Figure size 750x750 with 12 Axes>"
            ],
            "image/png": "[encoded data removed]"
          },
          "metadata": {}
        }
      ]
    },
    {
      "cell_type": "code",
      "source": [
        "train_data, test_data = df.randomSplit([0.8, 0.2])\n",
        "\n",
        "print('Train shape: ({}, {})'.format(train_data.count(),len(train_data.columns)))\n",
        "print('Test shape: ({},{})'.format(test_data.count(), len(test_data.columns)))"
      ],
      "metadata": {
        "id": "qdXG0gWKu1zc"
      },
      "execution_count": null,
      "outputs": []
    },
    {
      "cell_type": "code",
      "source": [
        "lr = LinearRegression(labelCol=\"Close\", featuresCol=\"features\", regParam=0.3)\n",
        "\n",
        "lr = lr.fit(train_data)"
      ],
      "metadata": {
        "id": "fS1FOiLqvjAY"
      },
      "execution_count": null,
      "outputs": []
    },
    {
      "cell_type": "code",
      "source": [
        "def evaluate_reg_model(model, test_data):\n",
        "\n",
        "    print(model.__class__.__name__.center(70, '-'))\n",
        "    model_results = model.evaluate(test_data)\n",
        "    print('R2: {}'.format(model_results.r2))\n",
        "    print('MSE: {}'.format(model_results.meanSquaredError))\n",
        "    print('RMSE: {}'.format(model_results.rootMeanSquaredError))\n",
        "    print('MAE: {}'.format(model_results.meanAbsoluteError))\n",
        "    print(70*'-')\n",
        "\n",
        "evaluate_reg_model(lr, test_data)"
      ],
      "metadata": {
        "colab": {
          "base_uri": "https://localhost:8080/"
        },
        "id": "Jq1ef6K8vkRA",
        "outputId": "926e09ff-fc7a-40fc-ff7c-52bce219218e"
      },
      "execution_count": null,
      "outputs": [
        {
          "output_type": "stream",
          "name": "stdout",
          "text": [
            "------------------------LinearRegressionModel-------------------------\n",
            "R2: 0.9964295194151406\n",
            "MSE: 1844.8675409644648\n",
            "RMSE: 42.951921272097536\n",
            "MAE: 31.329481792198802\n",
            "----------------------------------------------------------------------\n"
          ]
        }
      ]
    },
    {
      "cell_type": "code",
      "source": [
        "#End Session\n",
        "spark.stop()"
      ],
      "metadata": {
        "id": "QnX4CvHzepOD"
      },
      "execution_count": null,
      "outputs": []
    },
    {
      "cell_type": "code",
      "source": [],
      "metadata": {
        "id": "2MwLN8lMevm1"
      },
      "execution_count": null,
      "outputs": []
    }
  ]
}